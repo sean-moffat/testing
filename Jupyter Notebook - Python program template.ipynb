{
 "cells": [
  {
   "cell_type": "markdown",
   "metadata": {},
   "source": [
    "<h1>Project title goes here</h1>"
   ]
  },
  {
   "cell_type": "markdown",
   "metadata": {},
   "source": [
    "**Your name**<br>\n",
    "Your title\n",
    "\n",
    "Month Day, Year"
   ]
  },
  {
   "cell_type": "markdown",
   "metadata": {},
   "source": [
    "<h2>Table of contents</h2>\n",
    "\n",
    "1. Introduction\n",
    "1. Data\n",
    "    * Data requirements \n",
    "    * Data collection\n",
    "    * Data understanding \n",
    "    * Data preparation\n",
    "1. Methodology\n",
    "1. Results\n",
    "1. Discussion\n",
    "1. Conclusions"
   ]
  },
  {
   "cell_type": "markdown",
   "metadata": {},
   "source": [
    "<h2>1. Introduction</h2>\n",
    "  \n",
    "This section should include the business question / problem this notebook is going to address. \n",
    "\n",
    "Don't be affraid to include multiple paragraphs. The more information include here the better!!\n"
   ]
  },
  {
   "cell_type": "markdown",
   "metadata": {},
   "source": [
    "<h2>2. Data</h2>\n",
    "\n",
    "This section is used to provide an overview on the data sources used in this analysis.  \n",
    "\n",
    "It is important to include what time period the analysis covers, if multiple data sets are used include sub-sections below, information on how to join data sets (if applicable) and source of the data. \n",
    "\n",
    "Below is a brief description of each data set, followed by Tables 1 and 2 which report summary traffic accidents figures by vehicle use. All data sets were accessed on September 8, 2020 at 11:45 a.m.\n",
    "\n",
    "*__A. First data set__* \n",
    "\n",
    "I collected *first data set* data from . . . This file contains xxx data, and each record in the file represents a unique xxx. \n",
    "\n",
    "Information on xxx forms the building blocks for this analysis. The target variable (i.e., the label) for our supervised machine learning (SML) models comes from this data set. \n",
    "\n",
    "\n",
    "*__B. Second data set__* \n",
    "\n",
    "I collected *second data set* data from The City of Chicago's open data portal for [Traffic Crashes - Vehicles](https://data.cityofchicago.org/Transportation/Traffic-Crashes-Vehicles/68nd-jvt3) data. This file contains information about vehicles involved in a traffic crash. Each record in the file represents a vehicle. A vehicle can have multiple occupants, as such, it is possible for records in the vehicle table to have a many to one relationship to the crashes table. \n",
    "\n",
    "The 'VEHICLE_USE' attribute will be used to identify ambulance, fire, police (representing first responders) and personal vehicles.\n",
    "\n",
    "\n",
    "Table 1: Number of Traffic Accidents by Vehicle Use\n",
    "\n",
    "| Vehicle Use | Number of Traffic<br>Accidents |\n",
    "| :---        | :---:                          | \n",
    "| Ambulance   | 381                            | \n",
    "| Fire        | 341                            | \n",
    "| Police      | 2,081                          | \n",
    "| Personal    | 280,010                        | \n",
    "| Full subset | 282,813                        | \n",
    "\n",
    "\n",
    "Table 2: Number of Injuries from Traffic Accidents by Vehicle Use\n",
    "\n",
    "| Vehicle Use | Number of Traffic<br>Accidents with Injuries | Mean     | Standard Deviation | Minimum | Maximum | \n",
    "| :---        | :---:                                        | :---:    | :---:              | :---:   | :---:   |\n",
    "| Ambulance   | 25                                           | 0.065963 | 0.361328           | 0       | 5       |\n",
    "| Fire        | 14                                           | 0.041298 | 0.274249           | 0       | 3       |\n",
    "| Police      | 375                                          | 0.180897 | 0.592408           | 0       | 6       |\n",
    "| Personal    | 56,813                                       | 0.203172 | 0.59001            | 0       | 19      |\n",
    "| Full subset | 57,227                                       | xxx      | xxx                | 0       | xxx     |\n"
   ]
  },
  {
   "cell_type": "code",
   "execution_count": null,
   "metadata": {},
   "outputs": [],
   "source": [
    "# Step 1: Basic program set up, including importing a couple of useful libraries\n",
    "# Printing the directory you are in\n",
    "#import os\n",
    "#print (\"Current Directory : \", os.path.abspath('.'))\n",
    "#print\n",
    "\n",
    "# Printing what Python Version is installed\n",
    "import sys\n",
    "import platform\n",
    "print (\"Python Details : \", sys.version)\n",
    "print (\"Your Python Version is : \", platform.python_version())\n",
    "print\n",
    "\n",
    "\n",
    "# Importing useful Python libraries \n",
    "try:\n",
    "    import pandas as pd \n",
    "    print (\"pandas is installed; we're using version: \", pd.__version__)\n",
    "except ImportError:\n",
    "    sys.exit(\"Error : pandas can not be imported or not installed.\")\n",
    "print\n",
    "\n",
    "try:\n",
    "    import numpy as np \n",
    "    print (\"NumPy is installed; we're using version: \", np.__version__)\n",
    "except ImportError:\n",
    "    sys.exit(\"Error : NumPy can not be imported or not installed.\")\n",
    "print\n",
    "\n",
    "\n",
    "# Importing datetime utilities\n",
    "from datetime import date"
   ]
  }
 ],
 "metadata": {
  "kernelspec": {
   "display_name": "Python 3",
   "language": "python",
   "name": "python3"
  },
  "language_info": {
   "codemirror_mode": {
    "name": "ipython",
    "version": 3
   },
   "file_extension": ".py",
   "mimetype": "text/x-python",
   "name": "python",
   "nbconvert_exporter": "python",
   "pygments_lexer": "ipython3",
   "version": "3.7.3"
  }
 },
 "nbformat": 4,
 "nbformat_minor": 2
}
